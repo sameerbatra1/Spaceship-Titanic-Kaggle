{
 "cells": [
  {
   "cell_type": "markdown",
   "id": "dd83a9f2",
   "metadata": {},
   "source": [
    "# Spaceship Titanic Kaggle Project"
   ]
  },
  {
   "cell_type": "code",
   "execution_count": null,
   "id": "123aaa40",
   "metadata": {
    "jupyter": {
     "outputs_hidden": true
    },
    "scrolled": true
   },
   "outputs": [],
   "source": [
    "import pandas as pd"
   ]
  },
  {
   "cell_type": "code",
   "execution_count": null,
   "id": "8f6f96e7",
   "metadata": {
    "jupyter": {
     "outputs_hidden": true
    },
    "scrolled": true
   },
   "outputs": [],
   "source": [
    "import numpy as np\n",
    "import matplotlib.pyplot as plt"
   ]
  },
  {
   "cell_type": "markdown",
   "id": "5d3fb86c",
   "metadata": {},
   "source": [
    "## Importing Data"
   ]
  },
  {
   "cell_type": "code",
   "execution_count": null,
   "id": "de247313",
   "metadata": {
    "jupyter": {
     "outputs_hidden": true
    },
    "scrolled": true
   },
   "outputs": [],
   "source": [
    "df = pd.read_csv(\"data/train.csv\")"
   ]
  },
  {
   "cell_type": "code",
   "execution_count": null,
   "id": "2d160289",
   "metadata": {
    "jupyter": {
     "outputs_hidden": true
    },
    "scrolled": true
   },
   "outputs": [],
   "source": [
    "df"
   ]
  },
  {
   "cell_type": "code",
   "execution_count": null,
   "id": "dfb5c9c4",
   "metadata": {
    "jupyter": {
     "outputs_hidden": true
    },
    "scrolled": true
   },
   "outputs": [],
   "source": [
    "df.shape"
   ]
  },
  {
   "cell_type": "markdown",
   "id": "664241d3",
   "metadata": {},
   "source": [
    "## Studying Data"
   ]
  },
  {
   "cell_type": "code",
   "execution_count": null,
   "id": "f5683da6",
   "metadata": {
    "jupyter": {
     "outputs_hidden": true
    },
    "scrolled": true
   },
   "outputs": [],
   "source": [
    "df[\"Transported\"].value_counts()"
   ]
  },
  {
   "cell_type": "markdown",
   "id": "ed2f9be9",
   "metadata": {},
   "source": [
    "There are 4378 people (50.36%) who were transported and 4315 people (49.64%) who were not"
   ]
  },
  {
   "cell_type": "code",
   "execution_count": null,
   "id": "a2995701",
   "metadata": {
    "jupyter": {
     "outputs_hidden": true
    },
    "scrolled": true
   },
   "outputs": [],
   "source": [
    "df[\"Transported\"].value_counts().plot(kind=\"bar\", color=[\"salmon\", \"lightblue\"])"
   ]
  },
  {
   "cell_type": "code",
   "execution_count": null,
   "id": "514e299a",
   "metadata": {
    "jupyter": {
     "outputs_hidden": true
    },
    "scrolled": true
   },
   "outputs": [],
   "source": [
    "df.info()"
   ]
  },
  {
   "cell_type": "code",
   "execution_count": null,
   "id": "cf9acfdb",
   "metadata": {
    "jupyter": {
     "outputs_hidden": true
    },
    "scrolled": true
   },
   "outputs": [],
   "source": [
    "df.isna().sum()"
   ]
  },
  {
   "cell_type": "code",
   "execution_count": null,
   "id": "2acc3b2a",
   "metadata": {
    "jupyter": {
     "outputs_hidden": true
    },
    "scrolled": true
   },
   "outputs": [],
   "source": [
    "df.describe()"
   ]
  },
  {
   "cell_type": "code",
   "execution_count": null,
   "id": "16eea2f9",
   "metadata": {
    "jupyter": {
     "outputs_hidden": true
    },
    "scrolled": true
   },
   "outputs": [],
   "source": [
    "df.median(axis=0, skipna = True)"
   ]
  },
  {
   "cell_type": "code",
   "execution_count": null,
   "id": "6d3ead1f",
   "metadata": {
    "jupyter": {
     "outputs_hidden": true
    },
    "scrolled": true
   },
   "outputs": [],
   "source": [
    "df.Age.plot.hist()"
   ]
  },
  {
   "cell_type": "markdown",
   "id": "1227d75e",
   "metadata": {},
   "source": [
    "The above histogram shows that most people in our dataset are 16 to 30 years of age"
   ]
  },
  {
   "cell_type": "code",
   "execution_count": null,
   "id": "14c6ad7a",
   "metadata": {
    "jupyter": {
     "outputs_hidden": true
    },
    "scrolled": true
   },
   "outputs": [],
   "source": [
    "unique_values = df.nunique()\n",
    "unique_values"
   ]
  },
  {
   "cell_type": "code",
   "execution_count": null,
   "id": "b17641f1",
   "metadata": {
    "jupyter": {
     "outputs_hidden": true
    },
    "scrolled": true
   },
   "outputs": [],
   "source": [
    "df[\"HomePlanet\"].unique()"
   ]
  },
  {
   "cell_type": "code",
   "execution_count": null,
   "id": "7618a8f3",
   "metadata": {
    "jupyter": {
     "outputs_hidden": true
    },
    "scrolled": true
   },
   "outputs": [],
   "source": [
    "pd.crosstab(df.HomePlanet, df.Transported)"
   ]
  },
  {
   "cell_type": "code",
   "execution_count": null,
   "id": "b5144fce",
   "metadata": {
    "jupyter": {
     "outputs_hidden": true
    },
    "scrolled": true
   },
   "outputs": [],
   "source": [
    "# Visulaizing the crosstab\n",
    "pd.crosstab(df.HomePlanet, df.Transported).plot(kind=\"bar\",\n",
    "                                               figsize=(10,6),\n",
    "                                               color=[\"lightcoral\", \"aquamarine\"])\n",
    "# Adding information to the plot\n",
    "plt.title(\"Transported people according to Home Planet\")\n",
    "plt.xlabel(\"Home Planet\")\n",
    "plt.ylabel(\"Frequency\")\n",
    "plt.legend([\"Not Transported\", \"Transported\"])\n",
    "plt.xticks(rotation=0);"
   ]
  },
  {
   "cell_type": "code",
   "execution_count": null,
   "id": "42f72fa6",
   "metadata": {
    "jupyter": {
     "outputs_hidden": true
    },
    "scrolled": true
   },
   "outputs": [],
   "source": [
    "unique_values"
   ]
  },
  {
   "cell_type": "code",
   "execution_count": null,
   "id": "961426e2",
   "metadata": {
    "jupyter": {
     "outputs_hidden": true
    },
    "scrolled": true
   },
   "outputs": [],
   "source": [
    "pd.crosstab(df.HomePlanet, df.CryoSleep)"
   ]
  },
  {
   "cell_type": "code",
   "execution_count": null,
   "id": "4cd75d7c",
   "metadata": {
    "jupyter": {
     "outputs_hidden": true
    },
    "scrolled": true
   },
   "outputs": [],
   "source": [
    "pd.crosstab(df.HomePlanet, df.CryoSleep).plot(kind=\"bar\",\n",
    "                                             figsize=(10,6),\n",
    "                                             color=[\"salmon\", \"lightblue\"])\n",
    "plt.xticks(rotation=0)\n",
    "plt.ylabel(\"Frequency\")\n",
    "plt.xlabel(\"Home Planet\")\n",
    "plt.title(\"Number of passengers that are in Cryo Sleep according to Home Planet\");"
   ]
  },
  {
   "cell_type": "code",
   "execution_count": null,
   "id": "339b7b23",
   "metadata": {
    "jupyter": {
     "outputs_hidden": true
    },
    "scrolled": true
   },
   "outputs": [],
   "source": [
    "unique_values"
   ]
  },
  {
   "cell_type": "code",
   "execution_count": null,
   "id": "4b97e155",
   "metadata": {
    "jupyter": {
     "outputs_hidden": true
    },
    "scrolled": true
   },
   "outputs": [],
   "source": [
    "# Correlation matrix\n",
    "corr_matrix = df.corr()\n",
    "corr_matrix"
   ]
  },
  {
   "cell_type": "code",
   "execution_count": null,
   "id": "27f591ad",
   "metadata": {
    "jupyter": {
     "outputs_hidden": true
    },
    "scrolled": true
   },
   "outputs": [],
   "source": [
    "import seaborn as sns\n",
    "fig, ax = plt.subplots(figsize=(15, 10))\n",
    "ax = sns.heatmap(corr_matrix,\n",
    "                annot=True,\n",
    "                linewidths=0.5,\n",
    "                fmt=\".2f\",\n",
    "                cmap=\"YlGnBu\")"
   ]
  },
  {
   "cell_type": "markdown",
   "id": "c5a9ad87",
   "metadata": {},
   "source": [
    "## Manipulating Data \n",
    "so that it can be used to train model"
   ]
  },
  {
   "cell_type": "code",
   "execution_count": null,
   "id": "4ba6bf4c",
   "metadata": {
    "jupyter": {
     "outputs_hidden": true
    },
    "scrolled": true
   },
   "outputs": [],
   "source": [
    "df.isna().sum()"
   ]
  },
  {
   "cell_type": "code",
   "execution_count": null,
   "id": "d94299f8",
   "metadata": {
    "jupyter": {
     "outputs_hidden": true
    },
    "scrolled": true
   },
   "outputs": [],
   "source": [
    "df[\"HomePlanet\"].head()"
   ]
  },
  {
   "cell_type": "code",
   "execution_count": null,
   "id": "38823e98",
   "metadata": {
    "jupyter": {
     "outputs_hidden": true
    },
    "scrolled": true
   },
   "outputs": [],
   "source": [
    "# Converting PassengerId to numeric\n",
    "df_mod = df\n",
    "df_mod['PassengerId'] = df['PassengerId'].astype(str).astype(int)\n",
    "df_mod"
   ]
  },
  {
   "cell_type": "code",
   "execution_count": null,
   "id": "dca2c12c",
   "metadata": {
    "jupyter": {
     "outputs_hidden": true
    },
    "scrolled": true
   },
   "outputs": [],
   "source": [
    "df_mod.info()"
   ]
  },
  {
   "cell_type": "code",
   "execution_count": null,
   "id": "08d33abf",
   "metadata": {
    "jupyter": {
     "outputs_hidden": true
    },
    "scrolled": true
   },
   "outputs": [],
   "source": [
    "# Converting string values into category values\n",
    "for label, content in df_mod.items():\n",
    "    if pd.api.types.is_string_dtype(content):\n",
    "        df_mod[label] = content.astype(\"category\").cat.as_ordered()"
   ]
  },
  {
   "cell_type": "code",
   "execution_count": null,
   "id": "8235402c",
   "metadata": {
    "jupyter": {
     "outputs_hidden": true
    },
    "scrolled": true
   },
   "outputs": [],
   "source": [
    "df_mod.info()"
   ]
  },
  {
   "cell_type": "code",
   "execution_count": null,
   "id": "ef6170a2",
   "metadata": {
    "jupyter": {
     "outputs_hidden": true
    },
    "scrolled": true
   },
   "outputs": [],
   "source": [
    "# Checking if there is any string column\n",
    "for label, content in df_mod.items():\n",
    "    if pd.api.types.is_string_dtype(content):\n",
    "        print(label)"
   ]
  },
  {
   "cell_type": "code",
   "execution_count": null,
   "id": "c5bce78a",
   "metadata": {
    "jupyter": {
     "outputs_hidden": true
    },
    "scrolled": true
   },
   "outputs": [],
   "source": [
    "# Saving data\n",
    "df_mod.to_csv(\"modified-train-data.csv\", index=False)"
   ]
  },
  {
   "cell_type": "code",
   "execution_count": null,
   "id": "a161e66a",
   "metadata": {
    "jupyter": {
     "outputs_hidden": true
    },
    "scrolled": true
   },
   "outputs": [],
   "source": [
    "df_mod.isnull().sum()"
   ]
  },
  {
   "cell_type": "markdown",
   "id": "61b074ad",
   "metadata": {},
   "source": [
    "## Filling missing values"
   ]
  },
  {
   "cell_type": "code",
   "execution_count": null,
   "id": "6d404f8f",
   "metadata": {
    "jupyter": {
     "outputs_hidden": true
    },
    "scrolled": true
   },
   "outputs": [],
   "source": [
    "# Checking for numeric data types\n",
    "for label, content in df_mod.items():\n",
    "    if pd.api.types.is_numeric_dtype(content):\n",
    "        print(label)"
   ]
  },
  {
   "cell_type": "code",
   "execution_count": null,
   "id": "e48ad3d9",
   "metadata": {
    "jupyter": {
     "outputs_hidden": true
    },
    "scrolled": true
   },
   "outputs": [],
   "source": [
    "# Checking which numeric columns have null values\n",
    "for label, content in df_mod.items():\n",
    "    if pd.api.types.is_numeric_dtype(content):\n",
    "        if pd.isnull(content).sum():\n",
    "            print(label)"
   ]
  },
  {
   "cell_type": "code",
   "execution_count": null,
   "id": "83440888",
   "metadata": {
    "jupyter": {
     "outputs_hidden": true
    },
    "scrolled": true
   },
   "outputs": [],
   "source": [
    "print(df_mod.Age.median())\n",
    "print(df_mod.RoomService.median())\n",
    "print(df_mod.FoodCourt.median())\n",
    "print(df_mod.ShoppingMall.median())\n",
    "print(df_mod.Spa.median())\n",
    "print(df_mod.VRDeck.median())"
   ]
  },
  {
   "cell_type": "code",
   "execution_count": null,
   "id": "d28e8ab0",
   "metadata": {
    "jupyter": {
     "outputs_hidden": true
    },
    "scrolled": true
   },
   "outputs": [],
   "source": [
    "print(df_mod.Age.mean())\n",
    "print(df_mod.RoomService.mean())\n",
    "print(df_mod.FoodCourt.mean())\n",
    "print(df_mod.ShoppingMall.mean())\n",
    "print(df_mod.Spa.mean())\n",
    "print(df_mod.VRDeck.mean())"
   ]
  },
  {
   "cell_type": "code",
   "execution_count": null,
   "id": "2ccea0e8",
   "metadata": {
    "jupyter": {
     "outputs_hidden": true
    },
    "scrolled": true
   },
   "outputs": [],
   "source": [
    "# Filling missing numeric rows with --median\n",
    "def fill_num_val(df):\n",
    "    for label, content in df.items():\n",
    "        if pd.api.types.is_numeric_dtype(content):\n",
    "            if pd.isnull(content).sum():\n",
    "                df[label + \"_is_missing\"] = pd.isnull(content)\n",
    "                df[label] = content.fillna(content.median())"
   ]
  },
  {
   "cell_type": "code",
   "execution_count": null,
   "id": "cb272a68",
   "metadata": {
    "jupyter": {
     "outputs_hidden": true
    },
    "scrolled": true
   },
   "outputs": [],
   "source": [
    "fill_num_val(df_mod)"
   ]
  },
  {
   "cell_type": "code",
   "execution_count": null,
   "id": "6efb369c",
   "metadata": {
    "jupyter": {
     "outputs_hidden": true
    },
    "scrolled": true
   },
   "outputs": [],
   "source": [
    "# Checking which numeric columns have null values\n",
    "def check_num_values(df):\n",
    "    for label, content in df.items():\n",
    "        if pd.api.types.is_numeric_dtype(content):\n",
    "            if pd.isnull(content).sum():\n",
    "                print(label)"
   ]
  },
  {
   "cell_type": "code",
   "execution_count": null,
   "id": "787c14c9",
   "metadata": {
    "jupyter": {
     "outputs_hidden": true
    },
    "scrolled": true
   },
   "outputs": [],
   "source": [
    "check_num_values(df_mod)"
   ]
  },
  {
   "cell_type": "code",
   "execution_count": null,
   "id": "7f7c9f78",
   "metadata": {
    "jupyter": {
     "outputs_hidden": true
    },
    "scrolled": true
   },
   "outputs": [],
   "source": [
    "df_mod"
   ]
  },
  {
   "cell_type": "code",
   "execution_count": null,
   "id": "485f32a0",
   "metadata": {
    "jupyter": {
     "outputs_hidden": true
    },
    "scrolled": true
   },
   "outputs": [],
   "source": [
    "df_mod.isna().sum()"
   ]
  },
  {
   "cell_type": "markdown",
   "id": "a6d0af86",
   "metadata": {},
   "source": [
    "## Filling categorical values into numbers"
   ]
  },
  {
   "cell_type": "code",
   "execution_count": null,
   "id": "f100213a",
   "metadata": {
    "jupyter": {
     "outputs_hidden": true
    },
    "scrolled": true
   },
   "outputs": [],
   "source": [
    "# Checking categorical variables\n",
    "def check_cat_var(df):\n",
    "    for label, content in df.items():\n",
    "        if not pd.api.types.is_numeric_dtype(content):\n",
    "            print(label)"
   ]
  },
  {
   "cell_type": "code",
   "execution_count": null,
   "id": "03216f12",
   "metadata": {
    "jupyter": {
     "outputs_hidden": true
    },
    "scrolled": true
   },
   "outputs": [],
   "source": [
    "check_cat_var(df_mod)"
   ]
  },
  {
   "cell_type": "code",
   "execution_count": null,
   "id": "bb011a06",
   "metadata": {
    "jupyter": {
     "outputs_hidden": true
    },
    "scrolled": true
   },
   "outputs": [],
   "source": [
    "# Filling categorical null values\n",
    "def fill_cat_null_values(df):\n",
    "    for label, content in df.items():\n",
    "        if not pd.api.types.is_numeric_dtype(content):\n",
    "            df[label + \"_is_missing\"] = pd.isnull(content)\n",
    "            df[label] = pd.Categorical(content).codes + 1"
   ]
  },
  {
   "cell_type": "code",
   "execution_count": null,
   "id": "6f4624b6",
   "metadata": {
    "jupyter": {
     "outputs_hidden": true
    },
    "scrolled": true
   },
   "outputs": [],
   "source": [
    "fill_cat_null_values(df_mod)"
   ]
  },
  {
   "cell_type": "code",
   "execution_count": null,
   "id": "861beaa5",
   "metadata": {
    "jupyter": {
     "outputs_hidden": true
    },
    "scrolled": true
   },
   "outputs": [],
   "source": [
    "pd.Categorical(df_mod[\"HomePlanet\"]).codes"
   ]
  },
  {
   "cell_type": "code",
   "execution_count": null,
   "id": "e4f277aa",
   "metadata": {
    "jupyter": {
     "outputs_hidden": true
    },
    "scrolled": true
   },
   "outputs": [],
   "source": [
    "df_mod.info()"
   ]
  },
  {
   "cell_type": "code",
   "execution_count": null,
   "id": "3547229b",
   "metadata": {
    "jupyter": {
     "outputs_hidden": true
    },
    "scrolled": true
   },
   "outputs": [],
   "source": [
    "df_mod.head()"
   ]
  },
  {
   "cell_type": "code",
   "execution_count": null,
   "id": "22ae78cf",
   "metadata": {
    "jupyter": {
     "outputs_hidden": true
    },
    "scrolled": true
   },
   "outputs": [],
   "source": [
    "df_mod.isna().sum()"
   ]
  },
  {
   "cell_type": "code",
   "execution_count": null,
   "id": "a6538f0a",
   "metadata": {
    "jupyter": {
     "outputs_hidden": true
    },
    "scrolled": true
   },
   "outputs": [],
   "source": [
    "# Saving modified data\n",
    "df_mod.to_csv(\"data/modified-data.csv\", index=False)\n",
    "print(\"Data Saved\")"
   ]
  },
  {
   "cell_type": "markdown",
   "id": "4bd1894a",
   "metadata": {},
   "source": [
    "## Modelling"
   ]
  },
  {
   "cell_type": "code",
   "execution_count": null,
   "id": "5f1d24ed",
   "metadata": {
    "jupyter": {
     "outputs_hidden": true
    },
    "scrolled": true
   },
   "outputs": [],
   "source": [
    "df_mod.head()"
   ]
  },
  {
   "cell_type": "code",
   "execution_count": null,
   "id": "315f851d",
   "metadata": {
    "jupyter": {
     "outputs_hidden": true
    },
    "scrolled": true
   },
   "outputs": [],
   "source": [
    "df_mod[\"PassengerId\"]"
   ]
  },
  {
   "cell_type": "code",
   "execution_count": null,
   "id": "4eb4013b",
   "metadata": {
    "jupyter": {
     "outputs_hidden": true
    },
    "scrolled": true
   },
   "outputs": [],
   "source": [
    "# df_train = df_mod.iloc[:6950]\n",
    "# df_val = df_mod[6950:]\n",
    "# df_train.shape, df_val.shape"
   ]
  },
  {
   "cell_type": "code",
   "execution_count": null,
   "id": "13c852f3",
   "metadata": {
    "jupyter": {
     "outputs_hidden": true
    },
    "scrolled": true
   },
   "outputs": [],
   "source": [
    "# # Building training dataset\n",
    "# X_train = df_train.drop(\"Transported\", axis=1)\n",
    "# y_train = df_train.Transported\n",
    "\n",
    "# # Building validation dataset\n",
    "# X_valid = df_val.drop(\"Transported\", axis = 1)\n",
    "# y_valid = df_val.Transported\n",
    "\n",
    "# # Determing shape\n",
    "# X_train.shape, y_train.shape, X_valid.shape, y_valid.shape"
   ]
  },
  {
   "cell_type": "code",
   "execution_count": null,
   "id": "2e18e636",
   "metadata": {
    "jupyter": {
     "outputs_hidden": true
    },
    "scrolled": true
   },
   "outputs": [],
   "source": [
    "X = df_mod.drop(\"Transported\", axis=1)\n",
    "y = df_mod[\"Transported\"]\n",
    "from sklearn.model_selection import train_test_split\n",
    "X_train, X_test, y_train, y_test = train_test_split(X, y, test_size=0.2)\n",
    "X_train.shape, y_train.shape, X_test.shape, y_test.shape"
   ]
  },
  {
   "cell_type": "code",
   "execution_count": null,
   "id": "a9124309",
   "metadata": {
    "jupyter": {
     "outputs_hidden": true
    },
    "scrolled": true
   },
   "outputs": [],
   "source": [
    "from sklearn.ensemble import RandomForestClassifier\n",
    "clf = RandomForestClassifier()\n",
    "clf.fit(X_train, y_train)"
   ]
  },
  {
   "cell_type": "code",
   "execution_count": null,
   "id": "a31a40fd",
   "metadata": {
    "jupyter": {
     "outputs_hidden": true
    },
    "scrolled": true
   },
   "outputs": [],
   "source": [
    "rfc_score = clf.score(X_test, y_test)\n",
    "rfc_score"
   ]
  },
  {
   "cell_type": "code",
   "execution_count": null,
   "id": "1c105210",
   "metadata": {
    "jupyter": {
     "outputs_hidden": true
    },
    "scrolled": true
   },
   "outputs": [],
   "source": [
    "from sklearn.neighbors import KNeighborsClassifier\n",
    "neigh = KNeighborsClassifier()\n",
    "neigh.fit(X_train, y_train)"
   ]
  },
  {
   "cell_type": "code",
   "execution_count": null,
   "id": "c31e9cb6",
   "metadata": {
    "jupyter": {
     "outputs_hidden": true
    },
    "scrolled": true
   },
   "outputs": [],
   "source": [
    "neigh_score = neigh.score(X_test, y_test)\n",
    "neigh_score"
   ]
  },
  {
   "cell_type": "code",
   "execution_count": null,
   "id": "27314417",
   "metadata": {
    "jupyter": {
     "outputs_hidden": true
    },
    "scrolled": true
   },
   "outputs": [],
   "source": [
    "from sklearn.linear_model import LogisticRegression\n",
    "lr = LogisticRegression()\n",
    "lr.fit(X_train, y_train)"
   ]
  },
  {
   "cell_type": "code",
   "execution_count": null,
   "id": "ce45b733",
   "metadata": {
    "jupyter": {
     "outputs_hidden": true
    },
    "scrolled": true
   },
   "outputs": [],
   "source": [
    "lr_score = lr.score(X_test, y_test)\n",
    "lr_score"
   ]
  },
  {
   "cell_type": "code",
   "execution_count": null,
   "id": "fc9eb87d",
   "metadata": {
    "jupyter": {
     "outputs_hidden": true
    },
    "scrolled": true
   },
   "outputs": [],
   "source": [
    "from sklearn.svm import SVC\n",
    "svc = SVC()\n",
    "svc.fit(X_train, y_train)"
   ]
  },
  {
   "cell_type": "code",
   "execution_count": null,
   "id": "7fa37619",
   "metadata": {
    "jupyter": {
     "outputs_hidden": true
    },
    "scrolled": true
   },
   "outputs": [],
   "source": [
    "svc_score = svc.score(X_test, y_test)\n",
    "svc_score"
   ]
  },
  {
   "cell_type": "code",
   "execution_count": null,
   "id": "a219161e",
   "metadata": {
    "jupyter": {
     "outputs_hidden": true
    },
    "scrolled": true
   },
   "outputs": [],
   "source": [
    "model_scores = {\n",
    "    \"Random Forest Classifier\" : rfc_score,\n",
    "    \"KNeighborsClassifier\" : neigh_score,\n",
    "    \"Logistic Regression\" : lr_score,\n",
    "    \"SVC Score\" : svc_score\n",
    "}\n",
    "model_scores"
   ]
  },
  {
   "cell_type": "code",
   "execution_count": null,
   "id": "6bd5c557",
   "metadata": {
    "jupyter": {
     "outputs_hidden": true
    },
    "scrolled": true
   },
   "outputs": [],
   "source": [
    "model_compare = pd.DataFrame(model_scores, index=[\"accuracy\"])\n",
    "model_compare.T.plot(kind=\"bar\");"
   ]
  },
  {
   "cell_type": "markdown",
   "id": "c13458a2",
   "metadata": {},
   "source": [
    "Since the most accurate model is RandomForestClassifier() we will tune hyperparameter on that"
   ]
  },
  {
   "cell_type": "markdown",
   "id": "77a00af9",
   "metadata": {},
   "source": [
    "## GridsearchCV"
   ]
  },
  {
   "cell_type": "code",
   "execution_count": null,
   "id": "6ac3f4f4-7a21-4187-886e-77f2568668e9",
   "metadata": {
    "jupyter": {
     "outputs_hidden": true
    },
    "scrolled": true
   },
   "outputs": [],
   "source": [
    "grid = {\n",
    "    \"n_estimators\" : [10, 100, 200, 500, 1000, 1200],\n",
    "    \"max_depth\" : [None, 5, 10, 20, 30],\n",
    "    \"min_samples_split\" : np.arange(2,20,2),\n",
    "    \"min_samples_leaf\" : np.arange(1, 20, 2),\n",
    "    \"max_features\" : [0.5, 1, \"sqrt\"]\n",
    "}"
   ]
  },
  {
   "cell_type": "code",
   "execution_count": null,
   "id": "c261bb28",
   "metadata": {
    "jupyter": {
     "outputs_hidden": true
    },
    "scrolled": true,
    "tags": []
   },
   "outputs": [],
   "source": [
    "%%time\n",
    "from sklearn.model_selection import GridSearchCV\n",
    "np.random.seed(42)\n",
    "clf = RandomForestClassifier(n_jobs=-1,\n",
    "                            max_samples=1000)\n",
    "gs_clf = GridSearchCV(estimator=clf,\n",
    "                     param_grid=grid,\n",
    "                     cv=5,\n",
    "                     verbose=2)\n",
    "gs_clf.fit(X_train, y_train)"
   ]
  },
  {
   "cell_type": "code",
   "execution_count": null,
   "id": "8e9d17ad-04d0-4dc4-bc19-e811b232551f",
   "metadata": {
    "jupyter": {
     "outputs_hidden": true
    },
    "scrolled": true
   },
   "outputs": [],
   "source": [
    "gs_clf.best_params_"
   ]
  },
  {
   "cell_type": "code",
   "execution_count": null,
   "id": "77083868-e79b-4fd6-a1d6-b55161594f21",
   "metadata": {
    "jupyter": {
     "outputs_hidden": true
    },
    "scrolled": true
   },
   "outputs": [],
   "source": [
    "gs_clf.score(X_test, y_test)"
   ]
  },
  {
   "cell_type": "code",
   "execution_count": null,
   "id": "80e0a357-d716-4de2-bb9d-b82e100554fc",
   "metadata": {
    "jupyter": {
     "outputs_hidden": true
    },
    "scrolled": true
   },
   "outputs": [],
   "source": [
    "y_preds = gs_clf.predict(X_test)"
   ]
  },
  {
   "cell_type": "code",
   "execution_count": null,
   "id": "5649b19b-5bbf-44a5-b126-34c0ca1f165f",
   "metadata": {
    "jupyter": {
     "outputs_hidden": true
    },
    "scrolled": true
   },
   "outputs": [],
   "source": [
    "from sklearn.metrics import accuracy_score\n",
    "accuracy_score(y_test, y_preds)"
   ]
  },
  {
   "cell_type": "code",
   "execution_count": null,
   "id": "24f8dbd7-8d08-479b-be84-0b268ad763b4",
   "metadata": {
    "jupyter": {
     "outputs_hidden": true
    },
    "scrolled": true
   },
   "outputs": [],
   "source": [
    "grid_lr = {\n",
    "    \"penalty\" : ['l1' , 'l2', 'elasticnet', None],\n",
    "    \"solver\" : ['lbfgs', 'liblinear', 'newton-cg', 'saga'],\n",
    "    \n",
    "}"
   ]
  },
  {
   "cell_type": "code",
   "execution_count": null,
   "id": "7cae8506-1f8f-4df6-92ee-7b9a497f19a0",
   "metadata": {
    "jupyter": {
     "outputs_hidden": true
    },
    "scrolled": true,
    "tags": []
   },
   "outputs": [],
   "source": [
    "lr = LogisticRegression(n_jobs=-1)\n",
    "gs_lr = GridSearchCV(estimator=lr,\n",
    "                    param_grid=grid_lr,\n",
    "                    cv=5,\n",
    "                    verbose=2)\n",
    "gs_lr.fit(X_train, y_train)"
   ]
  },
  {
   "cell_type": "code",
   "execution_count": null,
   "id": "61edca1a-80b5-45b2-af73-ec12c1ae6658",
   "metadata": {
    "scrolled": true
   },
   "outputs": [],
   "source": [
    "gs_lr.score(X_test, y_test)"
   ]
  },
  {
   "cell_type": "code",
   "execution_count": null,
   "id": "8abb16b0-7888-471d-bb87-0474fc46dc00",
   "metadata": {
    "scrolled": true
   },
   "outputs": [],
   "source": [
    "model_scores"
   ]
  },
  {
   "cell_type": "code",
   "execution_count": null,
   "id": "0e51c42a-3dd0-481f-a189-8b87d087ea30",
   "metadata": {
    "scrolled": true
   },
   "outputs": [],
   "source": [
    "gs_lr.best_params_"
   ]
  },
  {
   "cell_type": "markdown",
   "id": "d5b5b135-d8fb-4bc4-b2f5-01e2f67117f7",
   "metadata": {
    "tags": []
   },
   "source": [
    "# Working on test data"
   ]
  },
  {
   "cell_type": "code",
   "execution_count": null,
   "id": "335d1c0d-3b5c-4af3-ac9e-dac00db101f5",
   "metadata": {
    "scrolled": true
   },
   "outputs": [],
   "source": [
    "test_df = pd.read_csv('data/test.csv')\n",
    "test_df"
   ]
  },
  {
   "cell_type": "code",
   "execution_count": null,
   "id": "0dae242b-bd08-4b7d-a732-3b8c5ec868b9",
   "metadata": {
    "scrolled": true
   },
   "outputs": [],
   "source": [
    "test_df.isna().sum()"
   ]
  },
  {
   "cell_type": "code",
   "execution_count": null,
   "id": "d45d02f3-c2d4-4a14-bfeb-e562d93fd566",
   "metadata": {
    "scrolled": true
   },
   "outputs": [],
   "source": [
    "# Checking num values\n",
    "check_num_values(test_df)"
   ]
  },
  {
   "cell_type": "code",
   "execution_count": null,
   "id": "79ea99cb-54ff-44d8-88fe-87a0aa1a8434",
   "metadata": {
    "scrolled": true
   },
   "outputs": [],
   "source": [
    "fill_num_val(test_df)"
   ]
  },
  {
   "cell_type": "code",
   "execution_count": null,
   "id": "87836317-756e-42b2-972f-7ba6c208cee5",
   "metadata": {
    "scrolled": true
   },
   "outputs": [],
   "source": [
    "check_num_values(test_df)"
   ]
  },
  {
   "cell_type": "code",
   "execution_count": null,
   "id": "b544596b-4690-40e1-a3fc-f9a48a2bb3fe",
   "metadata": {
    "scrolled": true
   },
   "outputs": [],
   "source": [
    "check_cat_var(test_df)"
   ]
  },
  {
   "cell_type": "code",
   "execution_count": null,
   "id": "4040f021-8688-4574-bcf7-131ee6cf2bab",
   "metadata": {
    "scrolled": true
   },
   "outputs": [],
   "source": [
    "fill_cat_null_values(test_df)"
   ]
  },
  {
   "cell_type": "code",
   "execution_count": null,
   "id": "81e7dc48-03b0-4fb5-bee3-e3960998b399",
   "metadata": {
    "scrolled": true
   },
   "outputs": [],
   "source": [
    "test_df"
   ]
  },
  {
   "cell_type": "code",
   "execution_count": null,
   "id": "e5cd9555-bcbe-4016-bac0-bfb720d298e7",
   "metadata": {
    "scrolled": true
   },
   "outputs": [],
   "source": [
    "X_train.head()"
   ]
  },
  {
   "cell_type": "code",
   "execution_count": null,
   "id": "979c3f5c-18dd-4347-b755-47389d087ebd",
   "metadata": {
    "scrolled": true
   },
   "outputs": [],
   "source": [
    "test_df.head()"
   ]
  },
  {
   "cell_type": "code",
   "execution_count": null,
   "id": "814d6e44-20d4-43f8-a3e5-495804cce65f",
   "metadata": {
    "scrolled": true
   },
   "outputs": [],
   "source": [
    "test_df.columns"
   ]
  },
  {
   "cell_type": "code",
   "execution_count": null,
   "id": "0f72d917-00a7-492c-b5a3-f8c1372578cd",
   "metadata": {
    "scrolled": true
   },
   "outputs": [],
   "source": [
    "X_train.columns"
   ]
  },
  {
   "cell_type": "code",
   "execution_count": null,
   "id": "0676ecd0-5d7a-447b-b51e-4946f6be1947",
   "metadata": {
    "scrolled": true
   },
   "outputs": [],
   "source": [
    "test_df = test_df.drop('PassengerId_is_missing', axis = 1)"
   ]
  },
  {
   "cell_type": "code",
   "execution_count": null,
   "id": "75c49eb2-4e7a-4664-8894-35fa9ce1d242",
   "metadata": {
    "scrolled": true
   },
   "outputs": [],
   "source": [
    "test_preds = gs_lr.predict(test_df)"
   ]
  },
  {
   "cell_type": "code",
   "execution_count": null,
   "id": "67e70f09-0841-4c54-a516-fd20d0d1921c",
   "metadata": {
    "scrolled": true
   },
   "outputs": [],
   "source": [
    "test_preds"
   ]
  },
  {
   "cell_type": "code",
   "execution_count": null,
   "id": "8f826dd9-fcdc-439a-9c6b-01b6ac2d7edd",
   "metadata": {
    "scrolled": true
   },
   "outputs": [],
   "source": [
    "getting_pass_id = pd.read_csv('data/test.csv')"
   ]
  },
  {
   "cell_type": "code",
   "execution_count": null,
   "id": "14e68eb0-4704-4198-b654-c3de9ba1e403",
   "metadata": {
    "scrolled": true
   },
   "outputs": [],
   "source": [
    "getting_pass_id['PassengerId']"
   ]
  },
  {
   "cell_type": "code",
   "execution_count": null,
   "id": "f67a2fb7-e529-408e-bada-205de8deed0b",
   "metadata": {
    "scrolled": true
   },
   "outputs": [],
   "source": [
    "df_preds = pd.DataFrame()"
   ]
  },
  {
   "cell_type": "code",
   "execution_count": null,
   "id": "3487e405-c82c-4acb-9edc-9519285d59ff",
   "metadata": {
    "scrolled": true
   },
   "outputs": [],
   "source": [
    "df_preds[\"PassengerId\"] = getting_pass_id[\"PassengerId\"]\n",
    "df_preds[\"Transported\"] = test_preds\n",
    "df_preds"
   ]
  },
  {
   "cell_type": "code",
   "execution_count": null,
   "id": "0d133b21-fdea-4d33-8e3d-0a8d01596190",
   "metadata": {
    "scrolled": true
   },
   "outputs": [],
   "source": [
    "df_preds.to_csv('data/test_preds_2.csv', index=False)"
   ]
  },
  {
   "cell_type": "code",
   "execution_count": null,
   "id": "38a3bed3-ae06-425f-aa8c-2625f4b557c2",
   "metadata": {
    "scrolled": true
   },
   "outputs": [],
   "source": []
  }
 ],
 "metadata": {
  "kernelspec": {
   "display_name": "Python 3 (ipykernel)",
   "language": "python",
   "name": "python3"
  },
  "language_info": {
   "codemirror_mode": {
    "name": "ipython",
    "version": 3
   },
   "file_extension": ".py",
   "mimetype": "text/x-python",
   "name": "python",
   "nbconvert_exporter": "python",
   "pygments_lexer": "ipython3",
   "version": "3.10.9"
  }
 },
 "nbformat": 4,
 "nbformat_minor": 5
}
